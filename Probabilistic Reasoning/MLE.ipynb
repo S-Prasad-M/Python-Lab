{
 "cells": [
  {
   "cell_type": "code",
   "execution_count": 1,
   "metadata": {},
   "outputs": [],
   "source": [
    "from itertools import product"
   ]
  },
  {
   "cell_type": "code",
   "execution_count": 2,
   "metadata": {},
   "outputs": [],
   "source": [
    "def generate_combinations_strings(n):\n",
    "    combinations = list(product([0, 1], repeat=n)) \n",
    "    combinations_strings = [''.join(map(str, combo)) for combo in combinations]\n",
    "    return combinations_strings"
   ]
  },
  {
   "cell_type": "code",
   "execution_count": 3,
   "metadata": {},
   "outputs": [],
   "source": [
    "dataset = [\n",
    "    [0, 0, 0, 0, 0],\n",
    "    [0, 1, 1, 1, 1],\n",
    "    [1, 0, 1, 1, 1],\n",
    "    [1, 1, 1, 1, 1],\n",
    "    [0, 1, 1, 1, 0],\n",
    "    [1, 0, 1, 0, 1],\n",
    "    [0, 0, 0, 0, 0],\n",
    "    [1, 1, 1, 1, 1],\n",
    "    [0, 1, 0, 0, 0],\n",
    "    [0, 0, 0, 0, 0],\n",
    "    [0, 0, 1, 0, 1],\n",
    "    [1, 0, 1, 1, 0],\n",
    "    [0, 1, 0, 1, 0],\n",
    "    [1, 1, 0, 0, 0],\n",
    "    [0, 0, 1, 1, 0],\n",
    "    [1, 0, 0, 0, 1],\n",
    "    [1, 1, 1, 1, 1],\n",
    "    [0, 1, 0, 0, 0],\n",
    "    [0, 0, 0, 1, 0],\n",
    "    [1, 0, 1, 0, 1]\n",
    "]\n",
    "\n",
    "dataset_key = {'B': 0, 'E': 1, 'A': 2, 'S': 3, 'D': 4}\n",
    "\n",
    "nodes = {\n",
    "    'Burglary': {'parents': [], 'cpt': {}},\n",
    "    'Earthquake': {'parents': [], 'cpt': {}},\n",
    "    'Alarm': {'parents': ['Burglary', 'Earthquake'], 'cpt': {}},\n",
    "    'JohnCalls': {'parents': ['Alarm'], 'cpt': {}},\n",
    "    'MaryCalls': {'parents': ['Alarm'], 'cpt': {}}\n",
    "}"
   ]
  },
  {
   "cell_type": "code",
   "execution_count": 4,
   "metadata": {},
   "outputs": [
    {
     "ename": "KeyError",
     "evalue": "'Burglary'",
     "output_type": "error",
     "traceback": [
      "\u001b[0;31m---------------------------------------------------------------------------\u001b[0m",
      "\u001b[0;31mKeyError\u001b[0m                                  Traceback (most recent call last)",
      "Cell \u001b[0;32mIn[4], line 3\u001b[0m\n\u001b[1;32m      1\u001b[0m \u001b[38;5;28;01mfor\u001b[39;00m node, data \u001b[38;5;129;01min\u001b[39;00m nodes\u001b[38;5;241m.\u001b[39mitems():\n\u001b[1;32m      2\u001b[0m     \u001b[38;5;28;01mif\u001b[39;00m \u001b[38;5;129;01mnot\u001b[39;00m data[\u001b[38;5;124m'\u001b[39m\u001b[38;5;124mparents\u001b[39m\u001b[38;5;124m'\u001b[39m]:        \n\u001b[0;32m----> 3\u001b[0m         count_of_1 \u001b[38;5;241m=\u001b[39m \u001b[38;5;28;43msum\u001b[39;49m\u001b[43m(\u001b[49m\u001b[38;5;241;43m1\u001b[39;49m\u001b[43m \u001b[49m\u001b[38;5;28;43;01mfor\u001b[39;49;00m\u001b[43m \u001b[49m\u001b[43mi\u001b[49m\u001b[43m \u001b[49m\u001b[38;5;129;43;01min\u001b[39;49;00m\u001b[43m \u001b[49m\u001b[43mdataset\u001b[49m\u001b[43m \u001b[49m\u001b[38;5;28;43;01mif\u001b[39;49;00m\u001b[43m \u001b[49m\u001b[43mi\u001b[49m\u001b[43m[\u001b[49m\u001b[43mdataset_key\u001b[49m\u001b[43m[\u001b[49m\u001b[43mnode\u001b[49m\u001b[43m]\u001b[49m\u001b[43m]\u001b[49m\u001b[43m \u001b[49m\u001b[38;5;241;43m==\u001b[39;49m\u001b[43m \u001b[49m\u001b[38;5;241;43m1\u001b[39;49m\u001b[43m)\u001b[49m\n\u001b[1;32m      4\u001b[0m         nodes[node][\u001b[38;5;124m'\u001b[39m\u001b[38;5;124mcpt\u001b[39m\u001b[38;5;124m'\u001b[39m] \u001b[38;5;241m=\u001b[39m {\u001b[38;5;124m'\u001b[39m\u001b[38;5;124m1\u001b[39m\u001b[38;5;124m'\u001b[39m: count_of_1 \u001b[38;5;241m/\u001b[39m \u001b[38;5;28mlen\u001b[39m(dataset), \u001b[38;5;124m'\u001b[39m\u001b[38;5;124m0\u001b[39m\u001b[38;5;124m'\u001b[39m: \u001b[38;5;241m1\u001b[39m \u001b[38;5;241m-\u001b[39m (count_of_1 \u001b[38;5;241m/\u001b[39m \u001b[38;5;28mlen\u001b[39m(dataset))}\n\u001b[1;32m      5\u001b[0m     \u001b[38;5;28;01melse\u001b[39;00m:\n",
      "Cell \u001b[0;32mIn[4], line 3\u001b[0m, in \u001b[0;36m<genexpr>\u001b[0;34m(.0)\u001b[0m\n\u001b[1;32m      1\u001b[0m \u001b[38;5;28;01mfor\u001b[39;00m node, data \u001b[38;5;129;01min\u001b[39;00m nodes\u001b[38;5;241m.\u001b[39mitems():\n\u001b[1;32m      2\u001b[0m     \u001b[38;5;28;01mif\u001b[39;00m \u001b[38;5;129;01mnot\u001b[39;00m data[\u001b[38;5;124m'\u001b[39m\u001b[38;5;124mparents\u001b[39m\u001b[38;5;124m'\u001b[39m]:        \n\u001b[0;32m----> 3\u001b[0m         count_of_1 \u001b[38;5;241m=\u001b[39m \u001b[38;5;28msum\u001b[39m(\u001b[38;5;241m1\u001b[39m \u001b[38;5;28;01mfor\u001b[39;00m i \u001b[38;5;129;01min\u001b[39;00m dataset \u001b[38;5;28;01mif\u001b[39;00m i[\u001b[43mdataset_key\u001b[49m\u001b[43m[\u001b[49m\u001b[43mnode\u001b[49m\u001b[43m]\u001b[49m] \u001b[38;5;241m==\u001b[39m \u001b[38;5;241m1\u001b[39m)\n\u001b[1;32m      4\u001b[0m         nodes[node][\u001b[38;5;124m'\u001b[39m\u001b[38;5;124mcpt\u001b[39m\u001b[38;5;124m'\u001b[39m] \u001b[38;5;241m=\u001b[39m {\u001b[38;5;124m'\u001b[39m\u001b[38;5;124m1\u001b[39m\u001b[38;5;124m'\u001b[39m: count_of_1 \u001b[38;5;241m/\u001b[39m \u001b[38;5;28mlen\u001b[39m(dataset), \u001b[38;5;124m'\u001b[39m\u001b[38;5;124m0\u001b[39m\u001b[38;5;124m'\u001b[39m: \u001b[38;5;241m1\u001b[39m \u001b[38;5;241m-\u001b[39m (count_of_1 \u001b[38;5;241m/\u001b[39m \u001b[38;5;28mlen\u001b[39m(dataset))}\n\u001b[1;32m      5\u001b[0m     \u001b[38;5;28;01melse\u001b[39;00m:\n",
      "\u001b[0;31mKeyError\u001b[0m: 'Burglary'"
     ]
    }
   ],
   "source": [
    "for node, data in nodes.items():\n",
    "    if not data['parents']:        \n",
    "        count_of_1 = sum(1 for i in dataset if i[dataset_key[node]] == 1)\n",
    "        nodes[node]['cpt'] = {'1': count_of_1 / len(dataset), '0': 1 - (count_of_1 / len(dataset))}\n",
    "    else:\n",
    "        n_parents = len(data['parents'])\n",
    "        combination_list = generate_combinations_strings(n_parents)\n",
    "        for combo in combination_list:\n",
    "            condition = {parent: int(combo[idx]) for idx, parent in enumerate(data['parents'])}\n",
    "            count_of_1 = sum(1 for i in dataset if all(i[dataset_key[parent]] == condition[parent] for parent in data['parents']) and i[dataset_key[node]] == 1)\n",
    "            nodes[node]['cpt'][combo] = count_of_1 / sum(1 for i in dataset if all(i[dataset_key[parent]] == condition[parent] for parent in data['parents']))"
   ]
  },
  {
   "cell_type": "code",
   "execution_count": null,
   "metadata": {},
   "outputs": [
    {
     "name": "stdout",
     "output_type": "stream",
     "text": [
      "MAximum likelihood =  2.057033237625771e-09\n"
     ]
    }
   ],
   "source": [
    "for key, value in nodes.items():\n",
    "    print(key,\":\",value)"
   ]
  },
  {
   "cell_type": "code",
   "execution_count": null,
   "metadata": {},
   "outputs": [],
   "source": [
    "query = {\"Burglary\": 1, \"Earthquake\": 1, \"Alarm\": 1, \"JohnCalls\": 0, \"MaryCalls\": 0}\n",
    "Outcomes = []\n",
    "for key, value in query.items():\n",
    "    key_parents = nodes[key][\"parents\"]\n",
    "    if len(key_parents) > 0:\n",
    "        cpt_string = ''.join(str(query[parent]) for parent in key_parents)\n",
    "        Outcomes.append(nodes[key][\"cpt\"][cpt_string])\n",
    "    else:\n",
    "        Outcomes.append(nodes[key][\"cpt\"][str(value)])\n",
    "\n",
    "joint_probability = 1\n",
    "for prob in Outcomes:\n",
    "    joint_probability *= prob"
   ]
  },
  {
   "cell_type": "code",
   "execution_count": null,
   "metadata": {},
   "outputs": [],
   "source": [
    "print(f\"The probabilities for query {query}: {Outcomes}\")\n",
    "print(f\"The final joint probability for the query {query}: {joint_probability}\")"
   ]
  }
 ],
 "metadata": {
  "kernelspec": {
   "display_name": "Python 3",
   "language": "python",
   "name": "python3"
  },
  "language_info": {
   "codemirror_mode": {
    "name": "ipython",
    "version": 3
   },
   "file_extension": ".py",
   "mimetype": "text/x-python",
   "name": "python",
   "nbconvert_exporter": "python",
   "pygments_lexer": "ipython3",
   "version": "3.10.13"
  }
 },
 "nbformat": 4,
 "nbformat_minor": 2
}
