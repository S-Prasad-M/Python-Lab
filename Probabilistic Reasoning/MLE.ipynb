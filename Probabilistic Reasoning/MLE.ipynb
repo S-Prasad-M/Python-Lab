{
 "cells": [
  {
   "cell_type": "markdown",
   "metadata": {},
   "source": [
    "# 22AIE301 - Probabilistic Reasoning\n",
    "## Lab Assignment 3\n",
    "\n",
    "Name: SHREE PRASAD M  \n",
    "Roll Number: CH.EN.U4AIE22050"
   ]
  },
  {
   "cell_type": "code",
   "execution_count": 23,
   "metadata": {},
   "outputs": [],
   "source": [
    "from itertools import product"
   ]
  },
  {
   "cell_type": "code",
   "execution_count": 24,
   "metadata": {},
   "outputs": [],
   "source": [
    "def generate_combinations_strings(n):\n",
    "    combinations = list(product([0, 1], repeat=n)) \n",
    "    combinations_strings = [''.join(map(str, combo)) for combo in combinations]\n",
    "    return combinations_strings"
   ]
  },
  {
   "cell_type": "code",
   "execution_count": 25,
   "metadata": {},
   "outputs": [],
   "source": [
    "dataset = [\n",
    "    [0, 0, 0, 0, 0],\n",
    "    [0, 1, 1, 1, 1],\n",
    "    [1, 0, 1, 1, 1],\n",
    "    [1, 1, 1, 1, 1],\n",
    "    [0, 1, 1, 1, 0],\n",
    "    [1, 0, 1, 0, 1],\n",
    "    [0, 0, 0, 0, 0],\n",
    "    [1, 1, 1, 1, 1],\n",
    "    [0, 1, 0, 0, 0],\n",
    "    [0, 0, 0, 0, 0],\n",
    "    [0, 0, 1, 0, 1],\n",
    "    [1, 0, 1, 1, 0],\n",
    "    [0, 1, 0, 1, 0],\n",
    "    [1, 1, 0, 0, 0],\n",
    "    [0, 0, 1, 1, 0],\n",
    "    [1, 0, 0, 0, 1],\n",
    "    [1, 1, 1, 1, 1],\n",
    "    [0, 1, 0, 0, 0],\n",
    "    [0, 0, 0, 1, 0],\n",
    "    [1, 0, 1, 0, 1]\n",
    "]\n",
    "\n",
    "dataset_key = {'Burglary': 0, 'Earthquake': 1, 'Alarm': 2, 'JohnCalls': 3, 'MaryCalls': 4}\n",
    "\n",
    "nodes = {\n",
    "    'Burglary': {'parents': [], 'cpt': {}},\n",
    "    'Earthquake': {'parents': [], 'cpt': {}},\n",
    "    'Alarm': {'parents': ['Burglary', 'Earthquake'], 'cpt': {}},\n",
    "    'JohnCalls': {'parents': ['Alarm'], 'cpt': {}},\n",
    "    'MaryCalls': {'parents': ['Alarm'], 'cpt': {}}\n",
    "}"
   ]
  },
  {
   "cell_type": "code",
   "execution_count": 26,
   "metadata": {},
   "outputs": [],
   "source": [
    "for node, data in nodes.items():\n",
    "    if not data['parents']:        \n",
    "        count_of_1 = sum(1 for i in dataset if i[dataset_key[node]] == 1)\n",
    "        nodes[node]['cpt'] = {'1': count_of_1 / len(dataset), '0': 1 - (count_of_1 / len(dataset))}\n",
    "    else:\n",
    "        n_parents = len(data['parents'])\n",
    "        combination_list = generate_combinations_strings(n_parents)\n",
    "        for combo in combination_list:\n",
    "            condition = {parent: int(combo[idx]) for idx, parent in enumerate(data['parents'])}\n",
    "            count_of_1 = sum(1 for i in dataset if all(i[dataset_key[parent]] == condition[parent] for parent in data['parents']) and i[dataset_key[node]] == 1)\n",
    "            nodes[node]['cpt'][combo] = count_of_1 / sum(1 for i in dataset if all(i[dataset_key[parent]] == condition[parent] for parent in data['parents']))"
   ]
  },
  {
   "cell_type": "code",
   "execution_count": 27,
   "metadata": {},
   "outputs": [
    {
     "name": "stdout",
     "output_type": "stream",
     "text": [
      "Burglary : {'parents': [], 'cpt': {'1': 0.45, '0': 0.55}}\n",
      "Earthquake : {'parents': [], 'cpt': {'1': 0.45, '0': 0.55}}\n",
      "Alarm : {'parents': ['Burglary', 'Earthquake'], 'cpt': {'00': 0.3333333333333333, '01': 0.4, '10': 0.8, '11': 0.75}}\n",
      "JohnCalls : {'parents': ['Alarm'], 'cpt': {'0': 0.2222222222222222, '1': 0.7272727272727273}}\n",
      "MaryCalls : {'parents': ['Alarm'], 'cpt': {'0': 0.1111111111111111, '1': 0.7272727272727273}}\n"
     ]
    }
   ],
   "source": [
    "for key, value in nodes.items():\n",
    "    print(key,\":\",value)"
   ]
  },
  {
   "cell_type": "code",
   "execution_count": 28,
   "metadata": {},
   "outputs": [],
   "source": [
    "query = {\"Burglary\": 1, \"Earthquake\": 1, \"Alarm\": 1, \"JohnCalls\": 0, \"MaryCalls\": 0}\n",
    "Outcomes = []\n",
    "for key, value in query.items():\n",
    "    key_parents = nodes[key][\"parents\"]\n",
    "    if len(key_parents) > 0:\n",
    "        cpt_string = ''.join(str(query[parent]) for parent in key_parents)\n",
    "        Outcomes.append(nodes[key][\"cpt\"][cpt_string])\n",
    "    else:\n",
    "        Outcomes.append(nodes[key][\"cpt\"][str(value)])\n",
    "\n",
    "joint_probability = 1\n",
    "for prob in Outcomes:\n",
    "    joint_probability *= prob"
   ]
  },
  {
   "cell_type": "code",
   "execution_count": 29,
   "metadata": {},
   "outputs": [
    {
     "name": "stdout",
     "output_type": "stream",
     "text": [
      "The probabilities for query {'Burglary': 1, 'Earthquake': 1, 'Alarm': 1, 'JohnCalls': 0, 'MaryCalls': 0}: [0.45, 0.45, 0.75, 0.7272727272727273, 0.7272727272727273]\n",
      "The final joint probability for the query {'Burglary': 1, 'Earthquake': 1, 'Alarm': 1, 'JohnCalls': 0, 'MaryCalls': 0}: 0.0803305785123967\n"
     ]
    }
   ],
   "source": [
    "print(f\"The probabilities for query {query}: {Outcomes}\")\n",
    "print(f\"The final joint probability for the query {query}: {joint_probability}\")"
   ]
  }
 ],
 "metadata": {
  "kernelspec": {
   "display_name": "Python 3",
   "language": "python",
   "name": "python3"
  },
  "language_info": {
   "codemirror_mode": {
    "name": "ipython",
    "version": 3
   },
   "file_extension": ".py",
   "mimetype": "text/x-python",
   "name": "python",
   "nbconvert_exporter": "python",
   "pygments_lexer": "ipython3",
   "version": "3.10.13"
  }
 },
 "nbformat": 4,
 "nbformat_minor": 2
}
