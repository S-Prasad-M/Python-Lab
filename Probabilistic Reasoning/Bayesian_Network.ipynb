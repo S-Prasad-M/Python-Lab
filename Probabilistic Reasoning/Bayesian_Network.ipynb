{
 "cells": [
  {
   "cell_type": "code",
   "execution_count": 63,
   "metadata": {},
   "outputs": [],
   "source": [
    "import pgmpy\n",
    "from pgmpy.models import BayesianNetwork\n",
    "from pgmpy.factors.discrete.CPD import TabularCPD\n",
    "from pgmpy.inference import VariableElimination"
   ]
  },
  {
   "cell_type": "code",
   "execution_count": 64,
   "metadata": {},
   "outputs": [
    {
     "data": {
      "text/plain": [
       "<pgmpy.models.BayesianNetwork.BayesianNetwork at 0x76b09c378100>"
      ]
     },
     "execution_count": 64,
     "metadata": {},
     "output_type": "execute_result"
    }
   ],
   "source": [
    "G = BayesianNetwork()\n",
    "G"
   ]
  },
  {
   "cell_type": "code",
   "execution_count": 65,
   "metadata": {},
   "outputs": [],
   "source": [
    "G.add_nodes_from(['Burgalary','Earthquake','Alarm','JohnCalls','MaryCalls'])\n",
    "G.add_edges_from([('Alarm','Burgalary'),('Alarm','Earthquake'),('Alarm','JohnCalls'),('Alarm','MaryCalls')])"
   ]
  },
  {
   "cell_type": "code",
   "execution_count": 66,
   "metadata": {},
   "outputs": [
    {
     "data": {
      "text/plain": [
       "5"
      ]
     },
     "execution_count": 66,
     "metadata": {},
     "output_type": "execute_result"
    }
   ],
   "source": [
    "len(G)"
   ]
  },
  {
   "cell_type": "markdown",
   "metadata": {},
   "source": [
    "Variable card is basically the number of rows in the CPD table that corresponds to a specific variable.\n",
    "The evidence is the list of this node's parents.\n",
    "Evidence card represents number of possible states for each evidence, here burgalary there are T/F and similarly for Earthquake"
   ]
  },
  {
   "cell_type": "code",
   "execution_count": 67,
   "metadata": {},
   "outputs": [],
   "source": [
    "Alarm_cpt = TabularCPD('Alarm', variable_card=2,values=[[0.999, 0.71, 0.06, 0.001],\n",
    "                                                        [0.001, 0.29, 0.94, 0.999]], evidence=['Burglary', 'Earthquake'], evidence_card=[2, 2])"
   ]
  },
  {
   "cell_type": "code",
   "execution_count": 68,
   "metadata": {},
   "outputs": [],
   "source": [
    "JohnCalls_Cpt = TabularCPD(variable='JohnCalls', variable_card=2, values=[[0.05, 0.9], [0.95, 0.1]], evidence=['Alarm'], evidence_card=[2])"
   ]
  },
  {
   "cell_type": "code",
   "execution_count": 69,
   "metadata": {},
   "outputs": [],
   "source": [
    "MaryCalls_cpt = TabularCPD(variable='MaryCalls', variable_card=2, values=[[0.01, 0.7], [0.99, 0.3]], evidence=['Alarm'], evidence_card=[2])"
   ]
  },
  {
   "cell_type": "code",
   "execution_count": 70,
   "metadata": {},
   "outputs": [],
   "source": [
    "Burgalary_cpt = TabularCPD(variable='Burgalary', variable_card=2, values=[[0.999], [0.001]])\n",
    "Earthquake_cpt = TabularCPD(variable='Earthquake', variable_card=2, values=[[0.998], [0.002]])"
   ]
  },
  {
   "cell_type": "code",
   "execution_count": 71,
   "metadata": {},
   "outputs": [
    {
     "data": {
      "text/plain": [
       "<TabularCPD representing P(Alarm:2 | Burglary:2, Earthquake:2) at 0x76b09c3782b0>"
      ]
     },
     "execution_count": 71,
     "metadata": {},
     "output_type": "execute_result"
    }
   ],
   "source": [
    "Alarm_cpt"
   ]
  },
  {
   "cell_type": "code",
   "execution_count": 72,
   "metadata": {},
   "outputs": [
    {
     "ename": "ValueError",
     "evalue": "('CPD defined on variable not in the model', <TabularCPD representing P(Alarm:2 | Burglary:2, Earthquake:2) at 0x76b09c3782b0>)",
     "output_type": "error",
     "traceback": [
      "\u001b[0;31m---------------------------------------------------------------------------\u001b[0m",
      "\u001b[0;31mValueError\u001b[0m                                Traceback (most recent call last)",
      "Cell \u001b[0;32mIn[72], line 1\u001b[0m\n\u001b[0;32m----> 1\u001b[0m \u001b[43mG\u001b[49m\u001b[38;5;241;43m.\u001b[39;49m\u001b[43madd_cpds\u001b[49m\u001b[43m(\u001b[49m\u001b[43mBurgalary_cpt\u001b[49m\u001b[43m,\u001b[49m\u001b[43m \u001b[49m\u001b[43mEarthquake_cpt\u001b[49m\u001b[43m,\u001b[49m\u001b[43m \u001b[49m\u001b[43mAlarm_cpt\u001b[49m\u001b[43m,\u001b[49m\u001b[43m \u001b[49m\u001b[43mJohnCalls_Cpt\u001b[49m\u001b[43m,\u001b[49m\u001b[43m \u001b[49m\u001b[43mMaryCalls_cpt\u001b[49m\u001b[43m)\u001b[49m\n",
      "File \u001b[0;32m~/.python/current/lib/python3.10/site-packages/pgmpy/models/BayesianNetwork.py:259\u001b[0m, in \u001b[0;36mBayesianNetwork.add_cpds\u001b[0;34m(self, *cpds)\u001b[0m\n\u001b[1;32m    256\u001b[0m     \u001b[38;5;28;01mraise\u001b[39;00m \u001b[38;5;167;01mValueError\u001b[39;00m(\u001b[38;5;124m\"\u001b[39m\u001b[38;5;124mOnly TabularCPD or ContinuousFactor can be added.\u001b[39m\u001b[38;5;124m\"\u001b[39m)\n\u001b[1;32m    258\u001b[0m \u001b[38;5;28;01mif\u001b[39;00m \u001b[38;5;28mset\u001b[39m(cpd\u001b[38;5;241m.\u001b[39mscope()) \u001b[38;5;241m-\u001b[39m \u001b[38;5;28mset\u001b[39m(cpd\u001b[38;5;241m.\u001b[39mscope())\u001b[38;5;241m.\u001b[39mintersection(\u001b[38;5;28mset\u001b[39m(\u001b[38;5;28mself\u001b[39m\u001b[38;5;241m.\u001b[39mnodes())):\n\u001b[0;32m--> 259\u001b[0m     \u001b[38;5;28;01mraise\u001b[39;00m \u001b[38;5;167;01mValueError\u001b[39;00m(\u001b[38;5;124m\"\u001b[39m\u001b[38;5;124mCPD defined on variable not in the model\u001b[39m\u001b[38;5;124m\"\u001b[39m, cpd)\n\u001b[1;32m    261\u001b[0m \u001b[38;5;28;01mfor\u001b[39;00m prev_cpd_index \u001b[38;5;129;01min\u001b[39;00m \u001b[38;5;28mrange\u001b[39m(\u001b[38;5;28mlen\u001b[39m(\u001b[38;5;28mself\u001b[39m\u001b[38;5;241m.\u001b[39mcpds)):\n\u001b[1;32m    262\u001b[0m     \u001b[38;5;28;01mif\u001b[39;00m \u001b[38;5;28mself\u001b[39m\u001b[38;5;241m.\u001b[39mcpds[prev_cpd_index]\u001b[38;5;241m.\u001b[39mvariable \u001b[38;5;241m==\u001b[39m cpd\u001b[38;5;241m.\u001b[39mvariable:\n",
      "\u001b[0;31mValueError\u001b[0m: ('CPD defined on variable not in the model', <TabularCPD representing P(Alarm:2 | Burglary:2, Earthquake:2) at 0x76b09c3782b0>)"
     ]
    }
   ],
   "source": [
    "G.add_cpds(Burgalary_cpt, Earthquake_cpt, Alarm_cpt, JohnCalls_Cpt, MaryCalls_cpt)\n"
   ]
  },
  {
   "cell_type": "code",
   "execution_count": null,
   "metadata": {},
   "outputs": [],
   "source": [
    "infer = VariableElimination(G)\n",
    "alarm_ringing = infer.query(variables=['Alarm'], evidence={'Burgalary': 1, 'Earthquake': 1})\n",
    "print(alarm_ringing)"
   ]
  }
 ],
 "metadata": {
  "kernelspec": {
   "display_name": "Python 3",
   "language": "python",
   "name": "python3"
  },
  "language_info": {
   "codemirror_mode": {
    "name": "ipython",
    "version": 3
   },
   "file_extension": ".py",
   "mimetype": "text/x-python",
   "name": "python",
   "nbconvert_exporter": "python",
   "pygments_lexer": "ipython3",
   "version": "3.10.13"
  }
 },
 "nbformat": 4,
 "nbformat_minor": 2
}
