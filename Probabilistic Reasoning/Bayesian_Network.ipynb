{
 "cells": [
  {
   "cell_type": "markdown",
   "metadata": {},
   "source": [
    "# 22AIE301 - Probabilistic Reasoning\n",
    "## Lab Assignment 1 & 2\n"
   ]
  },
  {
   "cell_type": "markdown",
   "metadata": {},
   "source": [
    "Name: SHREE PRASAD M  \n",
    "Roll Number: CH.EN.U4AIE22050"
   ]
  },
  {
   "cell_type": "code",
   "execution_count": 120,
   "metadata": {},
   "outputs": [],
   "source": [
    "import pgmpy\n",
    "from pgmpy.models import BayesianNetwork\n",
    "from pgmpy.factors.discrete.CPD import TabularCPD\n",
    "from pgmpy.inference import VariableElimination"
   ]
  },
  {
   "cell_type": "markdown",
   "metadata": {},
   "source": [
    "![alt text](image.png)"
   ]
  },
  {
   "cell_type": "markdown",
   "metadata": {},
   "source": [
    "In johncalls, the probabilities don't add up to 1, but it has been modified in the code"
   ]
  },
  {
   "cell_type": "code",
   "execution_count": 121,
   "metadata": {},
   "outputs": [
    {
     "data": {
      "text/plain": [
       "<pgmpy.models.BayesianNetwork.BayesianNetwork at 0x76b09c310250>"
      ]
     },
     "execution_count": 121,
     "metadata": {},
     "output_type": "execute_result"
    }
   ],
   "source": [
    "G = BayesianNetwork()\n",
    "G"
   ]
  },
  {
   "cell_type": "code",
   "execution_count": 122,
   "metadata": {},
   "outputs": [],
   "source": [
    "G.add_nodes_from(['Burgalary','Earthquake','Alarm','JohnCalls','MaryCalls'])\n",
    "G.add_edges_from([('Burgalary','Alarm'),('Earthquake','Alarm'),('Alarm','JohnCalls'),('Alarm','MaryCalls')])"
   ]
  },
  {
   "cell_type": "code",
   "execution_count": 123,
   "metadata": {},
   "outputs": [
    {
     "data": {
      "text/plain": [
       "5"
      ]
     },
     "execution_count": 123,
     "metadata": {},
     "output_type": "execute_result"
    }
   ],
   "source": [
    "len(G)"
   ]
  },
  {
   "cell_type": "markdown",
   "metadata": {},
   "source": [
    "Variable card is basically the number of rows in the CPD table that corresponds to a specific variable.  \n",
    "The evidence is the list of this node's parents.  \n",
    "Evidence card represents number of possible states for each evidence, here burgalary there are T/F and similarly for Earthquake"
   ]
  },
  {
   "cell_type": "code",
   "execution_count": 124,
   "metadata": {},
   "outputs": [
    {
     "name": "stdout",
     "output_type": "stream",
     "text": [
      "+------------+---------------+---------------+---------------+---------------+\n",
      "| Earthquake | Earthquake(0) | Earthquake(0) | Earthquake(1) | Earthquake(1) |\n",
      "+------------+---------------+---------------+---------------+---------------+\n",
      "| Burgalary  | Burgalary(0)  | Burgalary(1)  | Burgalary(0)  | Burgalary(1)  |\n",
      "+------------+---------------+---------------+---------------+---------------+\n",
      "| Alarm(0)   | 0.999         | 0.71          | 0.06          | 0.001         |\n",
      "+------------+---------------+---------------+---------------+---------------+\n",
      "| Alarm(1)   | 0.001         | 0.29          | 0.94          | 0.999         |\n",
      "+------------+---------------+---------------+---------------+---------------+\n"
     ]
    }
   ],
   "source": [
    "Alarm_cpt = TabularCPD(variable='Alarm', variable_card=2, values=[[0.999, 0.71, 0.06, 0.001],[0.001, 0.29, 0.94, 0.999]], evidence=['Earthquake', 'Burgalary'], evidence_card=[2, 2])\n",
    "print(Alarm_cpt)"
   ]
  },
  {
   "cell_type": "code",
   "execution_count": 125,
   "metadata": {},
   "outputs": [
    {
     "name": "stdout",
     "output_type": "stream",
     "text": [
      "+--------------+----------+----------+\n",
      "| Alarm        | Alarm(0) | Alarm(1) |\n",
      "+--------------+----------+----------+\n",
      "| JohnCalls(0) | 0.05     | 0.9      |\n",
      "+--------------+----------+----------+\n",
      "| JohnCalls(1) | 0.95     | 0.1      |\n",
      "+--------------+----------+----------+\n"
     ]
    }
   ],
   "source": [
    "JohnCalls_Cpt = TabularCPD(variable='JohnCalls', variable_card=2, values=[[0.05, 0.9], [0.95, 0.1]], evidence=['Alarm'], evidence_card=[2])\n",
    "print(JohnCalls_Cpt)"
   ]
  },
  {
   "cell_type": "code",
   "execution_count": 126,
   "metadata": {},
   "outputs": [
    {
     "name": "stdout",
     "output_type": "stream",
     "text": [
      "+--------------+----------+----------+\n",
      "| Alarm        | Alarm(0) | Alarm(1) |\n",
      "+--------------+----------+----------+\n",
      "| MaryCalls(0) | 0.01     | 0.7      |\n",
      "+--------------+----------+----------+\n",
      "| MaryCalls(1) | 0.99     | 0.3      |\n",
      "+--------------+----------+----------+\n"
     ]
    }
   ],
   "source": [
    "MaryCalls_cpt = TabularCPD(variable='MaryCalls', variable_card=2, values=[[0.01, 0.7], [0.99, 0.3]], evidence=['Alarm'], evidence_card=[2])\n",
    "print(MaryCalls_cpt)"
   ]
  },
  {
   "cell_type": "code",
   "execution_count": 127,
   "metadata": {},
   "outputs": [
    {
     "name": "stdout",
     "output_type": "stream",
     "text": [
      "+--------------+-------+\n",
      "| Burgalary(0) | 0.999 |\n",
      "+--------------+-------+\n",
      "| Burgalary(1) | 0.001 |\n",
      "+--------------+-------+\n",
      "+---------------+-------+\n",
      "| Earthquake(0) | 0.998 |\n",
      "+---------------+-------+\n",
      "| Earthquake(1) | 0.002 |\n",
      "+---------------+-------+\n"
     ]
    }
   ],
   "source": [
    "Burgalary_cpt = TabularCPD(variable='Burgalary', variable_card=2, values=[[0.999], [0.001]])\n",
    "Earthquake_cpt = TabularCPD(variable='Earthquake', variable_card=2, values=[[0.998], [0.002]])\n",
    "print(Burgalary_cpt)\n",
    "print(Earthquake_cpt)"
   ]
  },
  {
   "cell_type": "code",
   "execution_count": 128,
   "metadata": {},
   "outputs": [],
   "source": [
    "G.add_cpds(Burgalary_cpt, Earthquake_cpt, Alarm_cpt, JohnCalls_Cpt, MaryCalls_cpt)\n"
   ]
  },
  {
   "cell_type": "markdown",
   "metadata": {},
   "source": [
    "### Getting the probability of the ALarm situations given there is both Burgalary and Earthquake with one query "
   ]
  },
  {
   "cell_type": "code",
   "execution_count": 129,
   "metadata": {},
   "outputs": [
    {
     "name": "stdout",
     "output_type": "stream",
     "text": [
      "+----------+--------------+\n",
      "| Alarm    |   phi(Alarm) |\n",
      "+==========+==============+\n",
      "| Alarm(0) |       0.0010 |\n",
      "+----------+--------------+\n",
      "| Alarm(1) |       0.9990 |\n",
      "+----------+--------------+\n"
     ]
    }
   ],
   "source": [
    "infer = VariableElimination(G)\n",
    "alarm_ringing = infer.query(variables=['Alarm'], evidence={'Burgalary': 1, 'Earthquake': 1})\n",
    "print(alarm_ringing)"
   ]
  }
 ],
 "metadata": {
  "kernelspec": {
   "display_name": "Python 3",
   "language": "python",
   "name": "python3"
  },
  "language_info": {
   "codemirror_mode": {
    "name": "ipython",
    "version": 3
   },
   "file_extension": ".py",
   "mimetype": "text/x-python",
   "name": "python",
   "nbconvert_exporter": "python",
   "pygments_lexer": "ipython3",
   "version": "3.10.13"
  }
 },
 "nbformat": 4,
 "nbformat_minor": 2
}
