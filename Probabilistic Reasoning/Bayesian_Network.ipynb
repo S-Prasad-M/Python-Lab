{
 "cells": [
  {
   "cell_type": "code",
   "execution_count": 6,
   "metadata": {},
   "outputs": [],
   "source": [
    "import pgmpy\n",
    "from pgmpy.models import BayesianNetwork\n",
    "from pgmpy.factors.discrete.CPD import TabularCPD\n",
    "from pgmpy.inference import VariableElimination"
   ]
  },
  {
   "cell_type": "code",
   "execution_count": 2,
   "metadata": {},
   "outputs": [
    {
     "data": {
      "text/plain": [
       "<pgmpy.models.BayesianNetwork.BayesianNetwork at 0x76b09ee73040>"
      ]
     },
     "execution_count": 2,
     "metadata": {},
     "output_type": "execute_result"
    }
   ],
   "source": [
    "G = BayesianNetwork()\n",
    "G"
   ]
  },
  {
   "cell_type": "code",
   "execution_count": 3,
   "metadata": {},
   "outputs": [],
   "source": [
    "G.add_nodes_from(['Burgalary','Earthquake','Alarm','JohnCalls','MaryCalls'])\n",
    "G.add_edges_from([('Burgalary','Alarm'),('Earthquake','Alarm'),('Alarm','JohnCalls'),('Alarm','MaryCalls')])"
   ]
  },
  {
   "cell_type": "code",
   "execution_count": 4,
   "metadata": {},
   "outputs": [
    {
     "data": {
      "text/plain": [
       "5"
      ]
     },
     "execution_count": 4,
     "metadata": {},
     "output_type": "execute_result"
    }
   ],
   "source": [
    "len(G)"
   ]
  },
  {
   "cell_type": "markdown",
   "metadata": {},
   "source": [
    "Variable card is basically the number of rows in the CPD table that corresponds to a specific variable.\n",
    "The evidence is the list of this node's parents.\n",
    "Evidence card represents number of possible states for each evidence, here burgalary there are T/F and similarly for Earthquake"
   ]
  },
  {
   "cell_type": "code",
   "execution_count": null,
   "metadata": {},
   "outputs": [],
   "source": [
    "Alarm_cpt = TabularCPD('Alarm', variable_card=2,values=[[0.999, 0.71, 0.06, 0.001],\n",
    "                                                        [0.001, 0.29, 0.94, 0.999]], evidence=['Burglary', 'Earthquake'], evidence_card=[2, 2])"
   ]
  },
  {
   "cell_type": "code",
   "execution_count": null,
   "metadata": {},
   "outputs": [],
   "source": [
    "JohnCalls_Cpt = TabularCPD(variable='JohnCalls', variable_card=2, values=[[0.05, 0.9], [0.95, 0.1]], evidence=['Alarm'], evidence_card=[2])\n"
   ]
  },
  {
   "cell_type": "code",
   "execution_count": null,
   "metadata": {},
   "outputs": [],
   "source": [
    "MaryCalls_cpt = TabularCPD(variable='MaryCalls', variable_card=2, values=[[0.01, 0.7], [0.99, 0.3]], evidence=['Alarm'], evidence_card=[2])"
   ]
  },
  {
   "cell_type": "code",
   "execution_count": null,
   "metadata": {},
   "outputs": [],
   "source": [
    "Burgalary_cpt = TabularCPD(variable='Burgalary', variable_card=2, values=[[0.999], [0.001]])\n",
    "Earthquake_cpt = TabularCPD(variable='Earthquake', variable_card=2, values=[[0.998], [0.002]])"
   ]
  },
  {
   "cell_type": "code",
   "execution_count": null,
   "metadata": {},
   "outputs": [],
   "source": [
    "G.add_cpds(Burgalary_cpt, Earthquake_cpt, Alarm_cpt, JohnCalls_Cpt, MaryCalls_cpt)\n",
    "G.check_model"
   ]
  },
  {
   "cell_type": "code",
   "execution_count": null,
   "metadata": {},
   "outputs": [],
   "source": [
    "infer = VariableElimination(G)\n",
    "alarm_ringing = infer.query(variables=['Alarm'], evidence={'Burgalary': 1, 'Earthquake': 1})\n",
    "print(alarm_ringing)"
   ]
  },
  {
   "cell_type": "code",
   "execution_count": null,
   "metadata": {},
   "outputs": [],
   "source": []
  }
 ],
 "metadata": {
  "kernelspec": {
   "display_name": "Python 3",
   "language": "python",
   "name": "python3"
  },
  "language_info": {
   "codemirror_mode": {
    "name": "ipython",
    "version": 3
   },
   "file_extension": ".py",
   "mimetype": "text/x-python",
   "name": "python",
   "nbconvert_exporter": "python",
   "pygments_lexer": "ipython3",
   "version": "3.10.13"
  }
 },
 "nbformat": 4,
 "nbformat_minor": 2
}
